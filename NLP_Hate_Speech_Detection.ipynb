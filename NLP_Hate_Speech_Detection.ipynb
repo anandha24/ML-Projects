{
  "cells": [
    {
      "cell_type": "markdown",
      "metadata": {
        "id": "Gp6bokbr9wAD"
      },
      "source": [
        "# Machine Learning For NLP Multi-Class Tweet Abussive dan Hate Speech in Twitter Indonesia Domain\n",
        "## With Embbeding dan Tokenization\n",
        "Name : Muhammad Anandha Fritama | Email : anandha.fritama@gmail.com"
      ]
    },
    {
      "cell_type": "markdown",
      "metadata": {
        "id": "EbgGjkh5-y9_"
      },
      "source": [
        "### Workflow Pembuatan Machine Learning\n",
        "1. TensorFlow version check\n",
        "2. Setup Datasets\n",
        "3. Setup Directory\n",
        "4. Pre-Processing (Tokenization & Sequencing)\n",
        "5. Machine Learning Architecture\n",
        "6. Compile & Training\n",
        "7. Ploting"
      ]
    },
    {
      "cell_type": "markdown",
      "metadata": {
        "id": "BEfWkS0gAIe5"
      },
      "source": [
        "### TensorFlow version check"
      ]
    },
    {
      "cell_type": "code",
      "execution_count": 1,
      "metadata": {
        "colab": {
          "base_uri": "https://localhost:8080/"
        },
        "id": "rjjlJZfKBB42",
        "outputId": "f51c03e9-fe84-42fe-a53f-26a878c0fae3"
      },
      "outputs": [
        {
          "name": "stdout",
          "output_type": "stream",
          "text": [
            "2.8.2\n"
          ]
        }
      ],
      "source": [
        "import tensorflow as tfl\n",
        "print(tfl.__version__)"
      ]
    },
    {
      "cell_type": "markdown",
      "metadata": {
        "id": "H3fR2FR7APzR"
      },
      "source": [
        "### Setup Datasets"
      ]
    },
    {
      "cell_type": "code",
      "execution_count": 2,
      "metadata": {
        "colab": {
          "base_uri": "https://localhost:8080/"
        },
        "id": "tk_ti0SmBCnG",
        "outputId": "73087f5d-e30f-4eb9-9665-56b11d935c10"
      },
      "outputs": [
        {
          "name": "stdout",
          "output_type": "stream",
          "text": [
            "Looking in indexes: https://pypi.org/simple, https://us-python.pkg.dev/colab-wheels/public/simple/\n",
            "Requirement already satisfied: kaggle in /usr/local/lib/python3.7/dist-packages (1.5.12)\n",
            "Requirement already satisfied: urllib3 in /usr/local/lib/python3.7/dist-packages (from kaggle) (1.24.3)\n",
            "Requirement already satisfied: requests in /usr/local/lib/python3.7/dist-packages (from kaggle) (2.23.0)\n",
            "Requirement already satisfied: python-slugify in /usr/local/lib/python3.7/dist-packages (from kaggle) (6.1.2)\n",
            "Requirement already satisfied: tqdm in /usr/local/lib/python3.7/dist-packages (from kaggle) (4.64.1)\n",
            "Requirement already satisfied: certifi in /usr/local/lib/python3.7/dist-packages (from kaggle) (2022.6.15)\n",
            "Requirement already satisfied: six>=1.10 in /usr/local/lib/python3.7/dist-packages (from kaggle) (1.15.0)\n",
            "Requirement already satisfied: python-dateutil in /usr/local/lib/python3.7/dist-packages (from kaggle) (2.8.2)\n",
            "Requirement already satisfied: text-unidecode>=1.3 in /usr/local/lib/python3.7/dist-packages (from python-slugify->kaggle) (1.3)\n",
            "Requirement already satisfied: chardet<4,>=3.0.2 in /usr/local/lib/python3.7/dist-packages (from requests->kaggle) (3.0.4)\n",
            "Requirement already satisfied: idna<3,>=2.5 in /usr/local/lib/python3.7/dist-packages (from requests->kaggle) (2.10)\n"
          ]
        }
      ],
      "source": [
        "! pip install kaggle"
      ]
    },
    {
      "cell_type": "code",
      "execution_count": 3,
      "metadata": {
        "id": "9C4dyVgxRsdK"
      },
      "outputs": [],
      "source": [
        "! mkdir ~/.kaggle"
      ]
    },
    {
      "cell_type": "code",
      "execution_count": 4,
      "metadata": {
        "id": "_wXuDshMRxJE"
      },
      "outputs": [],
      "source": [
        "! cp kaggle.json ~/.kaggle/"
      ]
    },
    {
      "cell_type": "code",
      "execution_count": 5,
      "metadata": {
        "id": "HtIke16lRz0K"
      },
      "outputs": [],
      "source": [
        "! chmod 600 ~/.kaggle/kaggle.json"
      ]
    },
    {
      "cell_type": "code",
      "execution_count": 6,
      "metadata": {
        "colab": {
          "base_uri": "https://localhost:8080/"
        },
        "id": "sY0j-fc8R2me",
        "outputId": "6757a4cc-ebb9-4586-ff2e-b56f466a820e"
      },
      "outputs": [
        {
          "name": "stdout",
          "output_type": "stream",
          "text": [
            "Downloading indonesian-abusive-and-hate-speech-twitter-text.zip to /content\n",
            "\r  0% 0.00/814k [00:00<?, ?B/s]\n",
            "\r100% 814k/814k [00:00<00:00, 102MB/s]\n"
          ]
        }
      ],
      "source": [
        "! kaggle datasets download -d ilhamfp31/indonesian-abusive-and-hate-speech-twitter-text"
      ]
    },
    {
      "cell_type": "code",
      "execution_count": 7,
      "metadata": {
        "colab": {
          "base_uri": "https://localhost:8080/"
        },
        "id": "VKwB-pcvR_w9",
        "outputId": "2d3f6c94-2851-4bcd-aa6f-f6689834da8c"
      },
      "outputs": [
        {
          "name": "stdout",
          "output_type": "stream",
          "text": [
            "Archive:  indonesian-abusive-and-hate-speech-twitter-text.zip\n",
            "  inflating: README.md               \n",
            "  inflating: abusive.csv             \n",
            "  inflating: citation.bib            \n",
            "  inflating: data.csv                \n",
            "  inflating: new_kamusalay.csv       \n"
          ]
        }
      ],
      "source": [
        "! unzip indonesian-abusive-and-hate-speech-twitter-text.zip"
      ]
    },
    {
      "cell_type": "code",
      "execution_count": 8,
      "metadata": {
        "colab": {
          "base_uri": "https://localhost:8080/",
          "height": 468
        },
        "id": "7raUDvgETC22",
        "outputId": "dc5f1c3b-ce0e-4f70-aacd-1aebda1eb32f"
      },
      "outputs": [
        {
          "data": {
            "text/html": [
              "\n",
              "  <div id=\"df-16cd25f7-5d13-4ca9-8773-c40bf2940b58\">\n",
              "    <div class=\"colab-df-container\">\n",
              "      <div>\n",
              "<style scoped>\n",
              "    .dataframe tbody tr th:only-of-type {\n",
              "        vertical-align: middle;\n",
              "    }\n",
              "\n",
              "    .dataframe tbody tr th {\n",
              "        vertical-align: top;\n",
              "    }\n",
              "\n",
              "    .dataframe thead th {\n",
              "        text-align: right;\n",
              "    }\n",
              "</style>\n",
              "<table border=\"1\" class=\"dataframe\">\n",
              "  <thead>\n",
              "    <tr style=\"text-align: right;\">\n",
              "      <th></th>\n",
              "      <th>Tweet</th>\n",
              "      <th>HS</th>\n",
              "      <th>Abusive</th>\n",
              "      <th>HS_Individual</th>\n",
              "      <th>HS_Group</th>\n",
              "      <th>HS_Religion</th>\n",
              "      <th>HS_Race</th>\n",
              "      <th>HS_Physical</th>\n",
              "      <th>HS_Gender</th>\n",
              "      <th>HS_Other</th>\n",
              "      <th>HS_Weak</th>\n",
              "      <th>HS_Moderate</th>\n",
              "      <th>HS_Strong</th>\n",
              "    </tr>\n",
              "  </thead>\n",
              "  <tbody>\n",
              "    <tr>\n",
              "      <th>0</th>\n",
              "      <td>- disaat semua cowok berusaha melacak perhatia...</td>\n",
              "      <td>1</td>\n",
              "      <td>1</td>\n",
              "      <td>1</td>\n",
              "      <td>0</td>\n",
              "      <td>0</td>\n",
              "      <td>0</td>\n",
              "      <td>0</td>\n",
              "      <td>0</td>\n",
              "      <td>1</td>\n",
              "      <td>1</td>\n",
              "      <td>0</td>\n",
              "      <td>0</td>\n",
              "    </tr>\n",
              "    <tr>\n",
              "      <th>1</th>\n",
              "      <td>RT USER: USER siapa yang telat ngasih tau elu?...</td>\n",
              "      <td>0</td>\n",
              "      <td>1</td>\n",
              "      <td>0</td>\n",
              "      <td>0</td>\n",
              "      <td>0</td>\n",
              "      <td>0</td>\n",
              "      <td>0</td>\n",
              "      <td>0</td>\n",
              "      <td>0</td>\n",
              "      <td>0</td>\n",
              "      <td>0</td>\n",
              "      <td>0</td>\n",
              "    </tr>\n",
              "    <tr>\n",
              "      <th>2</th>\n",
              "      <td>41. Kadang aku berfikir, kenapa aku tetap perc...</td>\n",
              "      <td>0</td>\n",
              "      <td>0</td>\n",
              "      <td>0</td>\n",
              "      <td>0</td>\n",
              "      <td>0</td>\n",
              "      <td>0</td>\n",
              "      <td>0</td>\n",
              "      <td>0</td>\n",
              "      <td>0</td>\n",
              "      <td>0</td>\n",
              "      <td>0</td>\n",
              "      <td>0</td>\n",
              "    </tr>\n",
              "    <tr>\n",
              "      <th>3</th>\n",
              "      <td>USER USER AKU ITU AKU\\n\\nKU TAU MATAMU SIPIT T...</td>\n",
              "      <td>0</td>\n",
              "      <td>0</td>\n",
              "      <td>0</td>\n",
              "      <td>0</td>\n",
              "      <td>0</td>\n",
              "      <td>0</td>\n",
              "      <td>0</td>\n",
              "      <td>0</td>\n",
              "      <td>0</td>\n",
              "      <td>0</td>\n",
              "      <td>0</td>\n",
              "      <td>0</td>\n",
              "    </tr>\n",
              "    <tr>\n",
              "      <th>4</th>\n",
              "      <td>USER USER Kaum cebong kapir udah keliatan dong...</td>\n",
              "      <td>1</td>\n",
              "      <td>1</td>\n",
              "      <td>0</td>\n",
              "      <td>1</td>\n",
              "      <td>1</td>\n",
              "      <td>0</td>\n",
              "      <td>0</td>\n",
              "      <td>0</td>\n",
              "      <td>0</td>\n",
              "      <td>0</td>\n",
              "      <td>1</td>\n",
              "      <td>0</td>\n",
              "    </tr>\n",
              "    <tr>\n",
              "      <th>...</th>\n",
              "      <td>...</td>\n",
              "      <td>...</td>\n",
              "      <td>...</td>\n",
              "      <td>...</td>\n",
              "      <td>...</td>\n",
              "      <td>...</td>\n",
              "      <td>...</td>\n",
              "      <td>...</td>\n",
              "      <td>...</td>\n",
              "      <td>...</td>\n",
              "      <td>...</td>\n",
              "      <td>...</td>\n",
              "      <td>...</td>\n",
              "    </tr>\n",
              "    <tr>\n",
              "      <th>13164</th>\n",
              "      <td>USER jangan asal ngomong ndasmu. congor lu yg ...</td>\n",
              "      <td>1</td>\n",
              "      <td>1</td>\n",
              "      <td>1</td>\n",
              "      <td>0</td>\n",
              "      <td>0</td>\n",
              "      <td>0</td>\n",
              "      <td>1</td>\n",
              "      <td>0</td>\n",
              "      <td>0</td>\n",
              "      <td>1</td>\n",
              "      <td>0</td>\n",
              "      <td>0</td>\n",
              "    </tr>\n",
              "    <tr>\n",
              "      <th>13165</th>\n",
              "      <td>USER Kasur mana enak kunyuk'</td>\n",
              "      <td>0</td>\n",
              "      <td>1</td>\n",
              "      <td>0</td>\n",
              "      <td>0</td>\n",
              "      <td>0</td>\n",
              "      <td>0</td>\n",
              "      <td>0</td>\n",
              "      <td>0</td>\n",
              "      <td>0</td>\n",
              "      <td>0</td>\n",
              "      <td>0</td>\n",
              "      <td>0</td>\n",
              "    </tr>\n",
              "    <tr>\n",
              "      <th>13166</th>\n",
              "      <td>USER Hati hati bisu :( .g\\n\\nlagi bosan huft \\...</td>\n",
              "      <td>0</td>\n",
              "      <td>0</td>\n",
              "      <td>0</td>\n",
              "      <td>0</td>\n",
              "      <td>0</td>\n",
              "      <td>0</td>\n",
              "      <td>0</td>\n",
              "      <td>0</td>\n",
              "      <td>0</td>\n",
              "      <td>0</td>\n",
              "      <td>0</td>\n",
              "      <td>0</td>\n",
              "    </tr>\n",
              "    <tr>\n",
              "      <th>13167</th>\n",
              "      <td>USER USER USER USER Bom yang real mudah terdet...</td>\n",
              "      <td>0</td>\n",
              "      <td>0</td>\n",
              "      <td>0</td>\n",
              "      <td>0</td>\n",
              "      <td>0</td>\n",
              "      <td>0</td>\n",
              "      <td>0</td>\n",
              "      <td>0</td>\n",
              "      <td>0</td>\n",
              "      <td>0</td>\n",
              "      <td>0</td>\n",
              "      <td>0</td>\n",
              "    </tr>\n",
              "    <tr>\n",
              "      <th>13168</th>\n",
              "      <td>USER Mana situ ngasih(\": itu cuma foto ya kuti...</td>\n",
              "      <td>1</td>\n",
              "      <td>1</td>\n",
              "      <td>1</td>\n",
              "      <td>0</td>\n",
              "      <td>0</td>\n",
              "      <td>0</td>\n",
              "      <td>0</td>\n",
              "      <td>0</td>\n",
              "      <td>1</td>\n",
              "      <td>1</td>\n",
              "      <td>0</td>\n",
              "      <td>0</td>\n",
              "    </tr>\n",
              "  </tbody>\n",
              "</table>\n",
              "<p>13169 rows × 13 columns</p>\n",
              "</div>\n",
              "      <button class=\"colab-df-convert\" onclick=\"convertToInteractive('df-16cd25f7-5d13-4ca9-8773-c40bf2940b58')\"\n",
              "              title=\"Convert this dataframe to an interactive table.\"\n",
              "              style=\"display:none;\">\n",
              "        \n",
              "  <svg xmlns=\"http://www.w3.org/2000/svg\" height=\"24px\"viewBox=\"0 0 24 24\"\n",
              "       width=\"24px\">\n",
              "    <path d=\"M0 0h24v24H0V0z\" fill=\"none\"/>\n",
              "    <path d=\"M18.56 5.44l.94 2.06.94-2.06 2.06-.94-2.06-.94-.94-2.06-.94 2.06-2.06.94zm-11 1L8.5 8.5l.94-2.06 2.06-.94-2.06-.94L8.5 2.5l-.94 2.06-2.06.94zm10 10l.94 2.06.94-2.06 2.06-.94-2.06-.94-.94-2.06-.94 2.06-2.06.94z\"/><path d=\"M17.41 7.96l-1.37-1.37c-.4-.4-.92-.59-1.43-.59-.52 0-1.04.2-1.43.59L10.3 9.45l-7.72 7.72c-.78.78-.78 2.05 0 2.83L4 21.41c.39.39.9.59 1.41.59.51 0 1.02-.2 1.41-.59l7.78-7.78 2.81-2.81c.8-.78.8-2.07 0-2.86zM5.41 20L4 18.59l7.72-7.72 1.47 1.35L5.41 20z\"/>\n",
              "  </svg>\n",
              "      </button>\n",
              "      \n",
              "  <style>\n",
              "    .colab-df-container {\n",
              "      display:flex;\n",
              "      flex-wrap:wrap;\n",
              "      gap: 12px;\n",
              "    }\n",
              "\n",
              "    .colab-df-convert {\n",
              "      background-color: #E8F0FE;\n",
              "      border: none;\n",
              "      border-radius: 50%;\n",
              "      cursor: pointer;\n",
              "      display: none;\n",
              "      fill: #1967D2;\n",
              "      height: 32px;\n",
              "      padding: 0 0 0 0;\n",
              "      width: 32px;\n",
              "    }\n",
              "\n",
              "    .colab-df-convert:hover {\n",
              "      background-color: #E2EBFA;\n",
              "      box-shadow: 0px 1px 2px rgba(60, 64, 67, 0.3), 0px 1px 3px 1px rgba(60, 64, 67, 0.15);\n",
              "      fill: #174EA6;\n",
              "    }\n",
              "\n",
              "    [theme=dark] .colab-df-convert {\n",
              "      background-color: #3B4455;\n",
              "      fill: #D2E3FC;\n",
              "    }\n",
              "\n",
              "    [theme=dark] .colab-df-convert:hover {\n",
              "      background-color: #434B5C;\n",
              "      box-shadow: 0px 1px 3px 1px rgba(0, 0, 0, 0.15);\n",
              "      filter: drop-shadow(0px 1px 2px rgba(0, 0, 0, 0.3));\n",
              "      fill: #FFFFFF;\n",
              "    }\n",
              "  </style>\n",
              "\n",
              "      <script>\n",
              "        const buttonEl =\n",
              "          document.querySelector('#df-16cd25f7-5d13-4ca9-8773-c40bf2940b58 button.colab-df-convert');\n",
              "        buttonEl.style.display =\n",
              "          google.colab.kernel.accessAllowed ? 'block' : 'none';\n",
              "\n",
              "        async function convertToInteractive(key) {\n",
              "          const element = document.querySelector('#df-16cd25f7-5d13-4ca9-8773-c40bf2940b58');\n",
              "          const dataTable =\n",
              "            await google.colab.kernel.invokeFunction('convertToInteractive',\n",
              "                                                     [key], {});\n",
              "          if (!dataTable) return;\n",
              "\n",
              "          const docLinkHtml = 'Like what you see? Visit the ' +\n",
              "            '<a target=\"_blank\" href=https://colab.research.google.com/notebooks/data_table.ipynb>data table notebook</a>'\n",
              "            + ' to learn more about interactive tables.';\n",
              "          element.innerHTML = '';\n",
              "          dataTable['output_type'] = 'display_data';\n",
              "          await google.colab.output.renderOutput(dataTable, element);\n",
              "          const docLink = document.createElement('div');\n",
              "          docLink.innerHTML = docLinkHtml;\n",
              "          element.appendChild(docLink);\n",
              "        }\n",
              "      </script>\n",
              "    </div>\n",
              "  </div>\n",
              "  "
            ],
            "text/plain": [
              "                                                   Tweet  HS  Abusive  \\\n",
              "0      - disaat semua cowok berusaha melacak perhatia...   1        1   \n",
              "1      RT USER: USER siapa yang telat ngasih tau elu?...   0        1   \n",
              "2      41. Kadang aku berfikir, kenapa aku tetap perc...   0        0   \n",
              "3      USER USER AKU ITU AKU\\n\\nKU TAU MATAMU SIPIT T...   0        0   \n",
              "4      USER USER Kaum cebong kapir udah keliatan dong...   1        1   \n",
              "...                                                  ...  ..      ...   \n",
              "13164  USER jangan asal ngomong ndasmu. congor lu yg ...   1        1   \n",
              "13165                       USER Kasur mana enak kunyuk'   0        1   \n",
              "13166  USER Hati hati bisu :( .g\\n\\nlagi bosan huft \\...   0        0   \n",
              "13167  USER USER USER USER Bom yang real mudah terdet...   0        0   \n",
              "13168  USER Mana situ ngasih(\": itu cuma foto ya kuti...   1        1   \n",
              "\n",
              "       HS_Individual  HS_Group  HS_Religion  HS_Race  HS_Physical  HS_Gender  \\\n",
              "0                  1         0            0        0            0          0   \n",
              "1                  0         0            0        0            0          0   \n",
              "2                  0         0            0        0            0          0   \n",
              "3                  0         0            0        0            0          0   \n",
              "4                  0         1            1        0            0          0   \n",
              "...              ...       ...          ...      ...          ...        ...   \n",
              "13164              1         0            0        0            1          0   \n",
              "13165              0         0            0        0            0          0   \n",
              "13166              0         0            0        0            0          0   \n",
              "13167              0         0            0        0            0          0   \n",
              "13168              1         0            0        0            0          0   \n",
              "\n",
              "       HS_Other  HS_Weak  HS_Moderate  HS_Strong  \n",
              "0             1        1            0          0  \n",
              "1             0        0            0          0  \n",
              "2             0        0            0          0  \n",
              "3             0        0            0          0  \n",
              "4             0        0            1          0  \n",
              "...         ...      ...          ...        ...  \n",
              "13164         0        1            0          0  \n",
              "13165         0        0            0          0  \n",
              "13166         0        0            0          0  \n",
              "13167         0        0            0          0  \n",
              "13168         1        1            0          0  \n",
              "\n",
              "[13169 rows x 13 columns]"
            ]
          },
          "execution_count": 8,
          "metadata": {},
          "output_type": "execute_result"
        }
      ],
      "source": [
        "import pandas as pd\n",
        "df = pd.read_csv('data.csv', encoding='latin-1')\n",
        "df"
      ]
    },
    {
      "cell_type": "code",
      "execution_count": 9,
      "metadata": {
        "id": "nXO74VX6U4_m"
      },
      "outputs": [],
      "source": [
        "tweet = df['Tweet'].values\n",
        "label = df[['HS', 'Abusive', 'HS_Individual', 'HS_Group', 'HS_Religion', 'HS_Race', 'HS_Physical', 'HS_Gender', 'HS_Other', 'HS_Weak', 'HS_Moderate', 'HS_Strong']].values"
      ]
    },
    {
      "cell_type": "markdown",
      "metadata": {
        "id": "rkeo5BMHAXG5"
      },
      "source": [
        "### Setup Direktori"
      ]
    },
    {
      "cell_type": "code",
      "execution_count": 10,
      "metadata": {
        "id": "FEDrRwcbWxu7"
      },
      "outputs": [],
      "source": [
        "from sklearn.model_selection import train_test_split\n",
        "tweet_train, tweet_test, train_label, label_test = train_test_split(tweet, label, test_size=0.2)"
      ]
    },
    {
      "cell_type": "markdown",
      "metadata": {
        "id": "coh7dTeJAd0i"
      },
      "source": [
        "### Pre-Processing (Tokenization & Sequenting)"
      ]
    },
    {
      "cell_type": "code",
      "execution_count": 11,
      "metadata": {
        "id": "0ICzRvalBDhK"
      },
      "outputs": [],
      "source": [
        "from tensorflow.keras.preprocessing.text import Tokenizer\n",
        "from tensorflow.keras.preprocessing.sequence import pad_sequences\n",
        " \n",
        "tokenizer = Tokenizer(num_words=2500, filters='!\"#$%&()*+,-./:;<=>?@[\\\\]^_`{|}~\\t\\nUSER', lower=False)\n",
        "tokenizer.fit_on_texts(tweet_train) \n",
        "tokenizer.fit_on_texts(tweet_test)\n",
        " \n",
        "train_sequence = tokenizer.texts_to_sequences(tweet_train)\n",
        "test_sequence = tokenizer.texts_to_sequences(tweet_test)\n",
        " \n",
        "padded_latih = pad_sequences(train_sequence) \n",
        "padded_test = pad_sequences(test_sequence)"
      ]
    },
    {
      "cell_type": "markdown",
      "metadata": {
        "id": "zWatndtGAraD"
      },
      "source": [
        "### Membuat Arsitektur Machine Learning"
      ]
    },
    {
      "cell_type": "code",
      "execution_count": 12,
      "metadata": {
        "id": "fUBzemIhBE_h"
      },
      "outputs": [],
      "source": [
        "model = tfl.keras.Sequential([\n",
        "    tfl.keras.layers.Embedding(input_dim=2500, output_dim=64),\n",
        "    tfl.keras.layers.LSTM(512),\n",
        "    tfl.keras.layers.Dense(512, activation='sigmoid'),\n",
        "    tfl.keras.layers.Dense(256, activation='sigmoid'),  \n",
        "    tfl.keras.layers.Dense(128, activation='sigmoid'),  \n",
        "    tfl.keras.layers.Dense(64, activation='sigmoid'),  \n",
        "    tfl.keras.layers.Dense(32, activation='sigmoid'),\n",
        "    tfl.keras.layers.Dense(16, activation='sigmoid'),\n",
        "    tfl.keras.layers.Dropout(0.001),\n",
        "    tfl.keras.layers.Dense(12, activation='softmax')\n",
        "])"
      ]
    },
    {
      "cell_type": "code",
      "execution_count": 13,
      "metadata": {
        "colab": {
          "base_uri": "https://localhost:8080/"
        },
        "id": "odV4fAJ26OFA",
        "outputId": "144e6622-5d76-4abe-9f6f-4a0fc274aa81"
      },
      "outputs": [
        {
          "name": "stdout",
          "output_type": "stream",
          "text": [
            "Model: \"sequential\"\n",
            "_________________________________________________________________\n",
            " Layer (type)                Output Shape              Param #   \n",
            "=================================================================\n",
            " embedding (Embedding)       (None, None, 64)          160000    \n",
            "                                                                 \n",
            " lstm (LSTM)                 (None, 512)               1181696   \n",
            "                                                                 \n",
            " dense (Dense)               (None, 512)               262656    \n",
            "                                                                 \n",
            " dense_1 (Dense)             (None, 256)               131328    \n",
            "                                                                 \n",
            " dense_2 (Dense)             (None, 128)               32896     \n",
            "                                                                 \n",
            " dense_3 (Dense)             (None, 64)                8256      \n",
            "                                                                 \n",
            " dense_4 (Dense)             (None, 32)                2080      \n",
            "                                                                 \n",
            " dense_5 (Dense)             (None, 16)                528       \n",
            "                                                                 \n",
            " dropout (Dropout)           (None, 16)                0         \n",
            "                                                                 \n",
            " dense_6 (Dense)             (None, 12)                204       \n",
            "                                                                 \n",
            "=================================================================\n",
            "Total params: 1,779,644\n",
            "Trainable params: 1,779,644\n",
            "Non-trainable params: 0\n",
            "_________________________________________________________________\n"
          ]
        }
      ],
      "source": [
        "model.summary()"
      ]
    },
    {
      "cell_type": "markdown",
      "metadata": {
        "id": "6hKz--eBAwah"
      },
      "source": [
        "### Compile & Training"
      ]
    },
    {
      "cell_type": "code",
      "execution_count": 14,
      "metadata": {
        "id": "GFiG0gm1hGXy"
      },
      "outputs": [],
      "source": [
        "from tensorflow import keras\n",
        "from tensorflow.keras import layers\n",
        "adam = keras.optimizers.Adam(learning_rate=0.001, decay=0.001)\n",
        "model.compile(loss='categorical_crossentropy',optimizer=adam,metrics=['accuracy'])"
      ]
    },
    {
      "cell_type": "code",
      "execution_count": 15,
      "metadata": {
        "id": "oSABvTDEcdke"
      },
      "outputs": [],
      "source": [
        "class Callbackku(tfl.keras.callbacks.Callback):\n",
        "  def on_epoch_end(self, epoch, logs={}):\n",
        "    if(logs.get('accuracy')>0.88):\n",
        "      print(\"\\naccuracy value has >88%!\")\n",
        "      self.model.stop_training = True"
      ]
    },
    {
      "cell_type": "code",
      "execution_count": 19,
      "metadata": {
        "colab": {
          "base_uri": "https://localhost:8080/"
        },
        "id": "2rhJL5cCA84j",
        "outputId": "ac160b06-25d5-4f88-d15a-2127d5936d2d"
      },
      "outputs": [
        {
          "name": "stdout",
          "output_type": "stream",
          "text": [
            "Epoch 1/30\n",
            "264/264 [==============================] - 4s 13ms/step - loss: 4.6266 - accuracy: 0.1324 - val_loss: 4.5422 - val_accuracy: 0.1305\n",
            "Epoch 2/30\n",
            "264/264 [==============================] - 3s 13ms/step - loss: 4.5948 - accuracy: 0.1336 - val_loss: 4.6810 - val_accuracy: 0.1305\n",
            "Epoch 3/30\n",
            "264/264 [==============================] - 3s 13ms/step - loss: 4.6924 - accuracy: 0.1351 - val_loss: 4.6462 - val_accuracy: 0.1305\n",
            "Epoch 4/30\n",
            "264/264 [==============================] - 4s 14ms/step - loss: 4.6639 - accuracy: 0.1340 - val_loss: 4.6481 - val_accuracy: 0.1305\n",
            "Epoch 5/30\n",
            "264/264 [==============================] - 3s 13ms/step - loss: 4.6759 - accuracy: 0.1343 - val_loss: 4.6684 - val_accuracy: 0.1305\n",
            "Epoch 6/30\n",
            "264/264 [==============================] - 3s 13ms/step - loss: 4.6995 - accuracy: 0.1351 - val_loss: 4.6875 - val_accuracy: 0.1305\n",
            "Epoch 7/30\n",
            "264/264 [==============================] - 4s 14ms/step - loss: 4.7185 - accuracy: 0.1349 - val_loss: 4.7072 - val_accuracy: 0.1305\n",
            "Epoch 8/30\n",
            "264/264 [==============================] - 4s 14ms/step - loss: 4.7400 - accuracy: 0.1750 - val_loss: 4.7300 - val_accuracy: 0.1305\n",
            "Epoch 9/30\n",
            "264/264 [==============================] - 3s 13ms/step - loss: 4.7622 - accuracy: 0.5152 - val_loss: 4.7501 - val_accuracy: 0.1305\n",
            "Epoch 10/30\n",
            "264/264 [==============================] - 3s 13ms/step - loss: 4.7781 - accuracy: 0.6291 - val_loss: 4.7696 - val_accuracy: 0.8695\n",
            "Epoch 11/30\n",
            "264/264 [==============================] - 4s 14ms/step - loss: 4.7980 - accuracy: 0.8093 - val_loss: 4.7884 - val_accuracy: 0.8695\n",
            "Epoch 12/30\n",
            "264/264 [==============================] - 3s 13ms/step - loss: 4.8196 - accuracy: 0.8609 - val_loss: 4.8082 - val_accuracy: 0.8695\n",
            "Epoch 13/30\n",
            "264/264 [==============================] - 4s 14ms/step - loss: 4.8358 - accuracy: 0.8611 - val_loss: 4.8257 - val_accuracy: 0.8695\n",
            "Epoch 14/30\n",
            "264/264 [==============================] - 3s 13ms/step - loss: 4.8513 - accuracy: 0.8621 - val_loss: 4.8417 - val_accuracy: 0.8695\n",
            "Epoch 15/30\n",
            "264/264 [==============================] - 3s 13ms/step - loss: 4.8695 - accuracy: 0.8632 - val_loss: 4.8599 - val_accuracy: 0.8695\n",
            "Epoch 16/30\n",
            "264/264 [==============================] - 4s 14ms/step - loss: 4.8853 - accuracy: 0.8615 - val_loss: 4.8761 - val_accuracy: 0.8695\n",
            "Epoch 17/30\n",
            "264/264 [==============================] - 3s 13ms/step - loss: 4.9001 - accuracy: 0.8625 - val_loss: 4.8915 - val_accuracy: 0.8695\n",
            "Epoch 18/30\n",
            "264/264 [==============================] - 3s 13ms/step - loss: 4.9152 - accuracy: 0.8615 - val_loss: 4.9074 - val_accuracy: 0.8695\n",
            "Epoch 19/30\n",
            "264/264 [==============================] - 3s 13ms/step - loss: 4.9342 - accuracy: 0.8608 - val_loss: 4.9224 - val_accuracy: 0.8695\n",
            "Epoch 20/30\n",
            "264/264 [==============================] - 3s 13ms/step - loss: 4.9462 - accuracy: 0.8636 - val_loss: 4.9380 - val_accuracy: 0.8695\n",
            "Epoch 21/30\n",
            "264/264 [==============================] - 3s 13ms/step - loss: 4.9617 - accuracy: 0.8622 - val_loss: 4.9520 - val_accuracy: 0.8695\n",
            "Epoch 22/30\n",
            "264/264 [==============================] - 3s 13ms/step - loss: 4.9748 - accuracy: 0.8631 - val_loss: 4.9647 - val_accuracy: 0.8695\n",
            "Epoch 23/30\n",
            "264/264 [==============================] - 3s 13ms/step - loss: 4.9896 - accuracy: 0.8624 - val_loss: 4.9786 - val_accuracy: 0.8695\n",
            "Epoch 24/30\n",
            "264/264 [==============================] - 4s 16ms/step - loss: 5.0007 - accuracy: 0.8621 - val_loss: 4.9901 - val_accuracy: 0.8695\n",
            "Epoch 25/30\n",
            "264/264 [==============================] - 4s 14ms/step - loss: 5.0122 - accuracy: 0.8618 - val_loss: 5.0035 - val_accuracy: 0.8695\n",
            "Epoch 26/30\n",
            "264/264 [==============================] - 3s 13ms/step - loss: 5.0251 - accuracy: 0.8644 - val_loss: 5.0150 - val_accuracy: 0.8695\n",
            "Epoch 27/30\n",
            "264/264 [==============================] - 4s 14ms/step - loss: 5.0350 - accuracy: 0.8649 - val_loss: 5.0275 - val_accuracy: 0.8695\n",
            "Epoch 28/30\n",
            "264/264 [==============================] - 4s 14ms/step - loss: 5.0495 - accuracy: 0.8618 - val_loss: 5.0400 - val_accuracy: 0.8695\n",
            "Epoch 29/30\n",
            "264/264 [==============================] - 3s 13ms/step - loss: 5.0606 - accuracy: 0.8630 - val_loss: 5.0520 - val_accuracy: 0.8695\n",
            "Epoch 30/30\n",
            "264/264 [==============================] - 3s 13ms/step - loss: 5.0742 - accuracy: 0.8626 - val_loss: 5.0625 - val_accuracy: 0.8695\n"
          ]
        }
      ],
      "source": [
        "hasil = model.fit(padded_latih, train_label, epochs=30, \n",
        "                    validation_data=(padded_test, label_test), verbose=1, callbacks=[Callbackku()], validation_split=0.2)"
      ]
    },
    {
      "cell_type": "markdown",
      "metadata": {
        "id": "C-rgPbDTA0BR"
      },
      "source": [
        "### Plotting"
      ]
    },
    {
      "cell_type": "code",
      "execution_count": 20,
      "metadata": {
        "colab": {
          "base_uri": "https://localhost:8080/",
          "height": 295
        },
        "id": "UZ2_juEC9tib",
        "outputId": "be066ba4-8827-4701-c3e3-6396b49ce21e"
      },
      "outputs": [
        {
          "data": {
            "image/png": "[encoded data removed]",
            "text/plain": [
              "<Figure size 432x288 with 1 Axes>"
            ]
          },
          "metadata": {
            "needs_background": "light"
          },
          "output_type": "display_data"
        }
      ],
      "source": [
        "import matplotlib.pyplot as plt\n",
        "plt.plot(hasil.history['accuracy'])\n",
        "plt.plot(hasil.history['val_accuracy'])\n",
        "plt.title('Model Accuracy')\n",
        "plt.ylabel('accuracy')\n",
        "plt.xlabel('epoch')\n",
        "plt.legend(['train', 'test'], loc='lower right')\n",
        "plt.show()"
      ]
    },
    {
      "cell_type": "code",
      "execution_count": 21,
      "metadata": {
        "colab": {
          "base_uri": "https://localhost:8080/",
          "height": 295
        },
        "id": "y7bDfBy6VoUm",
        "outputId": "fd26ef34-0c11-4f81-a3ed-4ca28a4360f9"
      },
      "outputs": [
        {
          "data": {
            "image/png": "[encoded data removed]",
            "text/plain": [
              "<Figure size 432x288 with 1 Axes>"
            ]
          },
          "metadata": {
            "needs_background": "light"
          },
          "output_type": "display_data"
        }
      ],
      "source": [
        "plt.plot(hasil.history['loss'])\n",
        "plt.plot(hasil.history['val_loss'])\n",
        "plt.title('Model Loss')\n",
        "plt.ylabel('loss')\n",
        "plt.xlabel('epoch')\n",
        "plt.legend(['train', 'test'], loc='upper right')\n",
        "plt.show()"
      ]
    }
  ],
  "metadata": {
    "accelerator": "GPU",
    "colab": {
      "provenance": []
    },
    "kernelspec": {
      "display_name": "Python 3",
      "name": "python3"
    },
    "language_info": {
      "name": "python"
    }
  },
  "nbformat": 4,
  "nbformat_minor": 0
}
