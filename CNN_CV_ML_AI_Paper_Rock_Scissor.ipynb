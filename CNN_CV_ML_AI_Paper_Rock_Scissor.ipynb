{
  "cells": [
    {
      "cell_type": "markdown",
      "metadata": {
        "id": "I_rDtn5fgSyq"
      },
      "source": [
        "# Machine Learning For Image Recognition RPS (Rock, Paper, Scissors)\n",
        "## With CNN Architecture (Computer Vision)\n",
        "Name     : Muhammad Anandha Fritama\n",
        "Email    : anandha.fritama@gmail.com"
      ]
    },
    {
      "cell_type": "markdown",
      "metadata": {
        "id": "8V9uaAoT_3v_"
      },
      "source": [
        "## Workflow For Creating Machine Learning\n",
        "\n",
        "\n",
        "1.   TensorFlow Version Check\n",
        "2.   Download & Unzip Datasets\n",
        "3.   Set-Up Directory\n",
        "4.   Pre-Processing (Image Augmentation)\n",
        "5.   Pre-Training & Validation\n",
        "6.   Creating Machine learning Architecture (CNN)\n",
        "7.   Compile & Training\n",
        "8.   Prediction\n",
        "9.   Final & Re-Test\n",
        "\n"
      ]
    },
    {
      "cell_type": "markdown",
      "metadata": {
        "id": "bI6TduHxBpYQ"
      },
      "source": [
        "### 1. TensorFlow Version Check"
      ]
    },
    {
      "cell_type": "code",
      "execution_count": null,
      "metadata": {
        "colab": {
          "base_uri": "https://localhost:8080/"
        },
        "id": "gPzb4MLsgMN4",
        "outputId": "ec1f7b5a-66bc-49d8-f6c1-c69c70999e59"
      },
      "outputs": [
        {
          "name": "stdout",
          "output_type": "stream",
          "text": [
            "2.8.2\n"
          ]
        }
      ],
      "source": [
        "import tensorflow as tflow\n",
        "print(tflow.__version__)"
      ]
    },
    {
      "cell_type": "markdown",
      "metadata": {
        "id": "mkXQ4y8gCKv-"
      },
      "source": [
        "### 2. Download & Un-ZIP datasets"
      ]
    },
    {
      "cell_type": "code",
      "execution_count": null,
      "metadata": {
        "id": "93CqivyEfmiN"
      },
      "outputs": [],
      "source": [
        "!pip install -q kaggle"
      ]
    },
    {
      "cell_type": "code",
      "execution_count": null,
      "metadata": {
        "colab": {
          "base_uri": "https://localhost:8080/"
        },
        "id": "jBXUV77ZfrJc",
        "outputId": "cb9cb31a-7d40-4174-cbb4-4c0ec717cbbf"
      },
      "outputs": [
        {
          "name": "stdout",
          "output_type": "stream",
          "text": [
            "mkdir: cannot create directory ‘/root/.kaggle’: File exists\n"
          ]
        }
      ],
      "source": [
        "!mkdir ~/.kaggle"
      ]
    },
    {
      "cell_type": "code",
      "execution_count": null,
      "metadata": {
        "id": "vwo01kBvfzCE"
      },
      "outputs": [],
      "source": [
        "!cp kaggle.json ~/.kaggle/"
      ]
    },
    {
      "cell_type": "code",
      "execution_count": null,
      "metadata": {
        "colab": {
          "base_uri": "https://localhost:8080/"
        },
        "id": "a35E2sjkf40N",
        "outputId": "75828c45-94eb-499c-8efc-3cd66964f9ea"
      },
      "outputs": [
        {
          "name": "stdout",
          "output_type": "stream",
          "text": [
            "chmod: cannot access '~./kaggle/kaggle.json': No such file or directory\n"
          ]
        }
      ],
      "source": [
        "!chmod 600 ~./kaggle/kaggle.json"
      ]
    },
    {
      "cell_type": "code",
      "execution_count": null,
      "metadata": {
        "colab": {
          "base_uri": "https://localhost:8080/"
        },
        "id": "Cz8uykdQg0wJ",
        "outputId": "340cd654-9bc2-4e68-b6fa-5395f4b4a3d6"
      },
      "outputs": [
        {
          "name": "stdout",
          "output_type": "stream",
          "text": [
            "Warning: Your Kaggle API key is readable by other users on this system! To fix this, you can run 'chmod 600 /root/.kaggle/kaggle.json'\n",
            "Downloading rockpaperscissors.zip to /content\n",
            " 94% 289M/306M [00:02<00:00, 106MB/s] \n",
            "100% 306M/306M [00:02<00:00, 115MB/s]\n"
          ]
        }
      ],
      "source": [
        "!kaggle datasets download -d drgfreeman/rockpaperscissors"
      ]
    },
    {
      "cell_type": "code",
      "execution_count": null,
      "metadata": {
        "id": "q13KQvHOXWcL"
      },
      "outputs": [],
      "source": [
        "import zipfile,os,shutil\n",
        "file_zip = '/content/rockpaperscissors.zip'\n",
        "file_ekstrak = zipfile.ZipFile(file_zip, 'r')\n",
        "file_ekstrak.extractall('/content/data')\n",
        "file_ekstrak.close()\n",
        "\n",
        "os.mkdir(os.path.join(\"/content/data/latih\"))\n",
        "shutil.move(\"/content/data/paper\", \"/content/data/latih\")\n",
        "shutil.move(\"/content/data/rock\", \"/content/data/latih\")\n",
        "shutil.move(\"/content/data/scissors\", \"/content/data/latih\")\n",
        "file_latih = os.path.join(\"/content/data/latih\")\n",
        "file_validasi = os.path.join(\"/content/data\", 'rps-cv-images')"
      ]
    },
    {
      "cell_type": "markdown",
      "metadata": {
        "id": "0vbUhgsPdb5v"
      },
      "source": [
        "### 3. Set-Up Directory"
      ]
    },
    {
      "cell_type": "code",
      "execution_count": null,
      "metadata": {
        "colab": {
          "base_uri": "https://localhost:8080/"
        },
        "id": "FaBb6rccXWK1",
        "outputId": "0df88914-1944-42a3-bf12-f2ea6eab75d2"
      },
      "outputs": [
        {
          "data": {
            "text/plain": [
              "['scissors', 'rock', 'paper']"
            ]
          },
          "execution_count": 39,
          "metadata": {},
          "output_type": "execute_result"
        }
      ],
      "source": [
        "os.listdir(file_latih)"
      ]
    },
    {
      "cell_type": "code",
      "execution_count": null,
      "metadata": {
        "colab": {
          "base_uri": "https://localhost:8080/"
        },
        "id": "MztksOKyeY40",
        "outputId": "f2642bc0-b9f6-43b5-8c8a-d2b05c33b675"
      },
      "outputs": [
        {
          "data": {
            "text/plain": [
              "['scissors', 'rock', 'paper', 'README_rpc-cv-images.txt']"
            ]
          },
          "execution_count": 40,
          "metadata": {},
          "output_type": "execute_result"
        }
      ],
      "source": [
        "os.listdir(file_validasi)"
      ]
    },
    {
      "cell_type": "markdown",
      "metadata": {
        "id": "ISc5ZZ6ndapP"
      },
      "source": [
        "### 4. Pre-Processing (Image Augmentation)"
      ]
    },
    {
      "cell_type": "code",
      "execution_count": null,
      "metadata": {
        "id": "5qZ6DOkteZuH"
      },
      "outputs": [],
      "source": [
        "from tensorflow.keras.preprocessing.image import ImageDataGenerator\n",
        " \n",
        "data_train = ImageDataGenerator(rescale=1./255,\n",
        "                    horizontal_flip=True,\n",
        "                    vertical_flip=True,\n",
        "                    shear_range = 0.2,\n",
        "                    zoom_range = 0.2,\n",
        "                    validation_split=0.4,\n",
        "                    fill_mode = \"reflect\")\n",
        " \n",
        "data_validation = ImageDataGenerator(rescale=1./255,\n",
        "                    horizontal_flip=True,\n",
        "                    vertical_flip=True,\n",
        "                    shear_range = 0.2,\n",
        "                    zoom_range = 0.2,\n",
        "                    validation_split=0.4,\n",
        "                    fill_mode = \"reflect\")"
      ]
    },
    {
      "cell_type": "markdown",
      "metadata": {
        "id": "2bmSmmQidZge"
      },
      "source": [
        "### 5. Pre-Training & Validation"
      ]
    },
    {
      "cell_type": "code",
      "execution_count": null,
      "metadata": {
        "colab": {
          "base_uri": "https://localhost:8080/"
        },
        "id": "_4CbusMbjvtf",
        "outputId": "82217555-b783-4d26-a417-3ab07a27c1f7"
      },
      "outputs": [
        {
          "name": "stdout",
          "output_type": "stream",
          "text": [
            "Found 1314 images belonging to 3 classes.\n",
            "Found 874 images belonging to 3 classes.\n"
          ]
        }
      ],
      "source": [
        "train_generator = data_train.flow_from_directory(\n",
        "    file_latih,\n",
        "    target_size=(150, 150),\n",
        "    batch_size=8,\n",
        "    shuffle=True,\n",
        "    interpolation='nearest',\n",
        "    class_mode='categorical',\n",
        "    subset='training')\n",
        "\n",
        "validation_generator = data_validation.flow_from_directory(\n",
        "    file_validasi,\n",
        "    target_size=(150, 150),\n",
        "    batch_size=8,\n",
        "    shuffle=True,\n",
        "    interpolation='nearest',\n",
        "    class_mode='categorical',\n",
        "    subset='validation')"
      ]
    },
    {
      "cell_type": "markdown",
      "metadata": {
        "id": "tDrrbHHldQZm"
      },
      "source": [
        "### 6. Creating Machine learning Architecture (CNN)"
      ]
    },
    {
      "cell_type": "code",
      "execution_count": null,
      "metadata": {
        "id": "9y1bhqzEp90N"
      },
      "outputs": [],
      "source": [
        "model = tflow.keras.models.Sequential([\n",
        "    tflow.keras.layers.Conv2D(32, (3,3), activation='relu', input_shape=(150, 150, 3)),\n",
        "    tflow.keras.layers.MaxPooling2D(2, 2),\n",
        "    tflow.keras.layers.Conv2D(64, (3,3), activation='relu'),\n",
        "    tflow.keras.layers.MaxPooling2D(2,2),\n",
        "    tflow.keras.layers.Conv2D(128, (3,3), activation='relu'),\n",
        "    tflow.keras.layers.MaxPooling2D(2,2),\n",
        "    tflow.keras.layers.Conv2D(128, (3,3), activation='relu'),\n",
        "    tflow.keras.layers.MaxPooling2D(2,2),\n",
        "    tflow.keras.layers.Flatten(),\n",
        "    tflow.keras.layers.Dropout(0.4),\n",
        "    tflow.keras.layers.Dense(512, activation='relu'),\n",
        "    tflow.keras.layers.Dense(3, activation='softmax')\n",
        "])"
      ]
    },
    {
      "cell_type": "code",
      "execution_count": null,
      "metadata": {
        "colab": {
          "base_uri": "https://localhost:8080/"
        },
        "id": "Xf9O-eT2pESl",
        "outputId": "1807e9b5-9f92-46ab-87e3-c9766f17b321"
      },
      "outputs": [
        {
          "name": "stdout",
          "output_type": "stream",
          "text": [
            "Model: \"sequential_1\"\n",
            "_________________________________________________________________\n",
            " Layer (type)                Output Shape              Param #   \n",
            "=================================================================\n",
            " conv2d_4 (Conv2D)           (None, 148, 148, 32)      896       \n",
            "                                                                 \n",
            " max_pooling2d_4 (MaxPooling  (None, 74, 74, 32)       0         \n",
            " 2D)                                                             \n",
            "                                                                 \n",
            " conv2d_5 (Conv2D)           (None, 72, 72, 64)        18496     \n",
            "                                                                 \n",
            " max_pooling2d_5 (MaxPooling  (None, 36, 36, 64)       0         \n",
            " 2D)                                                             \n",
            "                                                                 \n",
            " conv2d_6 (Conv2D)           (None, 34, 34, 128)       73856     \n",
            "                                                                 \n",
            " max_pooling2d_6 (MaxPooling  (None, 17, 17, 128)      0         \n",
            " 2D)                                                             \n",
            "                                                                 \n",
            " conv2d_7 (Conv2D)           (None, 15, 15, 128)       147584    \n",
            "                                                                 \n",
            " max_pooling2d_7 (MaxPooling  (None, 7, 7, 128)        0         \n",
            " 2D)                                                             \n",
            "                                                                 \n",
            " flatten_1 (Flatten)         (None, 6272)              0         \n",
            "                                                                 \n",
            " dropout_1 (Dropout)         (None, 6272)              0         \n",
            "                                                                 \n",
            " dense_2 (Dense)             (None, 512)               3211776   \n",
            "                                                                 \n",
            " dense_3 (Dense)             (None, 3)                 1539      \n",
            "                                                                 \n",
            "=================================================================\n",
            "Total params: 3,454,147\n",
            "Trainable params: 3,454,147\n",
            "Non-trainable params: 0\n",
            "_________________________________________________________________\n"
          ]
        }
      ],
      "source": [
        "model.summary()"
      ]
    },
    {
      "cell_type": "markdown",
      "metadata": {
        "id": "oWuk_4iRdOM3"
      },
      "source": [
        "### 7. Compile & Training"
      ]
    },
    {
      "cell_type": "code",
      "execution_count": null,
      "metadata": {
        "id": "z2LXqf0JUfr5"
      },
      "outputs": [],
      "source": [
        "model.compile(loss=tflow.keras.losses.CategoricalCrossentropy(),\n",
        "              optimizer=tflow.optimizers.SGD(nesterov=True),\n",
        "              metrics=['accuracy'])"
      ]
    },
    {
      "cell_type": "code",
      "execution_count": null,
      "metadata": {
        "colab": {
          "base_uri": "https://localhost:8080/"
        },
        "id": "sQ1JZDI7jaI_",
        "outputId": "f4a22b66-0296-40fd-9b6c-e61d84a9f537"
      },
      "outputs": [
        {
          "name": "stdout",
          "output_type": "stream",
          "text": [
            "Epoch 1/40\n",
            "32/32 - 4s - loss: 0.3663 - accuracy: 0.8789 - val_loss: 0.2949 - val_accuracy: 0.9023 - 4s/epoch - 139ms/step\n",
            "Epoch 2/40\n",
            "32/32 - 3s - loss: 0.3393 - accuracy: 0.8711 - val_loss: 0.2441 - val_accuracy: 0.9336 - 3s/epoch - 109ms/step\n",
            "Epoch 3/40\n",
            "32/32 - 4s - loss: 0.3111 - accuracy: 0.8867 - val_loss: 0.2696 - val_accuracy: 0.9062 - 4s/epoch - 110ms/step\n",
            "Epoch 4/40\n",
            "32/32 - 3s - loss: 0.3407 - accuracy: 0.8640 - val_loss: 0.2969 - val_accuracy: 0.9102 - 3s/epoch - 108ms/step\n",
            "Epoch 5/40\n",
            "32/32 - 4s - loss: 0.2611 - accuracy: 0.9102 - val_loss: 0.3731 - val_accuracy: 0.8945 - 4s/epoch - 110ms/step\n",
            "Epoch 6/40\n",
            "32/32 - 3s - loss: 0.3103 - accuracy: 0.8867 - val_loss: 0.2255 - val_accuracy: 0.9297 - 3s/epoch - 109ms/step\n",
            "Epoch 7/40\n",
            "32/32 - 3s - loss: 0.2568 - accuracy: 0.9023 - val_loss: 0.3447 - val_accuracy: 0.8711 - 3s/epoch - 108ms/step\n",
            "Epoch 8/40\n",
            "32/32 - 3s - loss: 0.2809 - accuracy: 0.9062 - val_loss: 0.2511 - val_accuracy: 0.9102 - 3s/epoch - 109ms/step\n",
            "Epoch 9/40\n",
            "32/32 - 3s - loss: 0.3313 - accuracy: 0.9062 - val_loss: 0.2255 - val_accuracy: 0.9375 - 3s/epoch - 109ms/step\n",
            "Epoch 10/40\n",
            "32/32 - 3s - loss: 0.2552 - accuracy: 0.8984 - val_loss: 0.3736 - val_accuracy: 0.8750 - 3s/epoch - 108ms/step\n",
            "Epoch 11/40\n",
            "32/32 - 4s - loss: 0.2439 - accuracy: 0.9141 - val_loss: 0.2085 - val_accuracy: 0.9414 - 4s/epoch - 136ms/step\n",
            "Epoch 12/40\n",
            "32/32 - 3s - loss: 0.1966 - accuracy: 0.9375 - val_loss: 0.4487 - val_accuracy: 0.8398 - 3s/epoch - 108ms/step\n",
            "Epoch 13/40\n",
            "32/32 - 4s - loss: 0.2294 - accuracy: 0.9141 - val_loss: 0.2542 - val_accuracy: 0.9258 - 4s/epoch - 110ms/step\n",
            "Epoch 14/40\n",
            "32/32 - 4s - loss: 0.2638 - accuracy: 0.8867 - val_loss: 0.3373 - val_accuracy: 0.8750 - 4s/epoch - 135ms/step\n",
            "Epoch 15/40\n",
            "32/32 - 3s - loss: 0.2149 - accuracy: 0.9258 - val_loss: 0.2512 - val_accuracy: 0.9062 - 3s/epoch - 108ms/step\n",
            "Epoch 16/40\n",
            "32/32 - 3s - loss: 0.2479 - accuracy: 0.8760 - val_loss: 0.1873 - val_accuracy: 0.9375 - 3s/epoch - 106ms/step\n",
            "Epoch 17/40\n",
            "32/32 - 4s - loss: 0.2058 - accuracy: 0.9375 - val_loss: 0.1566 - val_accuracy: 0.9414 - 4s/epoch - 110ms/step\n",
            "Epoch 18/40\n",
            "32/32 - 3s - loss: 0.2145 - accuracy: 0.9336 - val_loss: 0.2076 - val_accuracy: 0.9375 - 3s/epoch - 108ms/step\n",
            "Epoch 19/40\n",
            "32/32 - 3s - loss: 0.2580 - accuracy: 0.8945 - val_loss: 0.2215 - val_accuracy: 0.9375 - 3s/epoch - 108ms/step\n",
            "Epoch 20/40\n",
            "32/32 - 3s - loss: 0.2363 - accuracy: 0.9375 - val_loss: 0.2988 - val_accuracy: 0.9102 - 3s/epoch - 108ms/step\n",
            "Epoch 21/40\n",
            "32/32 - 3s - loss: 0.2366 - accuracy: 0.9280 - val_loss: 0.1878 - val_accuracy: 0.9570 - 3s/epoch - 106ms/step\n",
            "Epoch 22/40\n",
            "32/32 - 3s - loss: 0.2932 - accuracy: 0.9023 - val_loss: 0.2039 - val_accuracy: 0.9531 - 3s/epoch - 108ms/step\n",
            "Epoch 23/40\n",
            "32/32 - 3s - loss: 0.1618 - accuracy: 0.9480 - val_loss: 0.2981 - val_accuracy: 0.8945 - 3s/epoch - 108ms/step\n",
            "Epoch 24/40\n",
            "32/32 - 3s - loss: 0.3040 - accuracy: 0.8840 - val_loss: 0.2223 - val_accuracy: 0.9336 - 3s/epoch - 106ms/step\n",
            "Epoch 25/40\n",
            "32/32 - 3s - loss: 0.2790 - accuracy: 0.8984 - val_loss: 0.2164 - val_accuracy: 0.9336 - 3s/epoch - 108ms/step\n",
            "Epoch 26/40\n",
            "32/32 - 3s - loss: 0.2393 - accuracy: 0.9280 - val_loss: 0.2485 - val_accuracy: 0.9219 - 3s/epoch - 106ms/step\n",
            "Epoch 27/40\n",
            "32/32 - 3s - loss: 0.2025 - accuracy: 0.9258 - val_loss: 0.2062 - val_accuracy: 0.9375 - 3s/epoch - 107ms/step\n",
            "Epoch 28/40\n",
            "32/32 - 3s - loss: 0.2358 - accuracy: 0.9102 - val_loss: 0.2497 - val_accuracy: 0.9258 - 3s/epoch - 107ms/step\n",
            "Epoch 29/40\n",
            "32/32 - 3s - loss: 0.2869 - accuracy: 0.8960 - val_loss: 0.1588 - val_accuracy: 0.9297 - 3s/epoch - 108ms/step\n",
            "Epoch 30/40\n",
            "32/32 - 3s - loss: 0.1952 - accuracy: 0.9258 - val_loss: 0.2764 - val_accuracy: 0.8984 - 3s/epoch - 108ms/step\n",
            "Epoch 31/40\n",
            "32/32 - 3s - loss: 0.1527 - accuracy: 0.9492 - val_loss: 0.1479 - val_accuracy: 0.9570 - 3s/epoch - 107ms/step\n",
            "Epoch 32/40\n",
            "32/32 - 3s - loss: 0.1819 - accuracy: 0.9440 - val_loss: 0.1848 - val_accuracy: 0.9453 - 3s/epoch - 106ms/step\n",
            "Epoch 33/40\n",
            "32/32 - 3s - loss: 0.2265 - accuracy: 0.9258 - val_loss: 0.2021 - val_accuracy: 0.9375 - 3s/epoch - 107ms/step\n",
            "Epoch 34/40\n",
            "32/32 - 3s - loss: 0.1173 - accuracy: 0.9648 - val_loss: 0.1589 - val_accuracy: 0.9531 - 3s/epoch - 109ms/step\n",
            "Epoch 35/40\n",
            "32/32 - 4s - loss: 0.1876 - accuracy: 0.9336 - val_loss: 0.1717 - val_accuracy: 0.9453 - 4s/epoch - 134ms/step\n",
            "Epoch 36/40\n",
            "32/32 - 3s - loss: 0.1482 - accuracy: 0.9440 - val_loss: 0.2194 - val_accuracy: 0.9414 - 3s/epoch - 109ms/step\n",
            "Epoch 37/40\n",
            "32/32 - 4s - loss: 0.1561 - accuracy: 0.9453 - val_loss: 0.2442 - val_accuracy: 0.9492 - 4s/epoch - 110ms/step\n",
            "Epoch 38/40\n",
            "32/32 - 3s - loss: 0.1493 - accuracy: 0.9453 - val_loss: 0.1543 - val_accuracy: 0.9453 - 3s/epoch - 107ms/step\n",
            "Epoch 39/40\n",
            "32/32 - 3s - loss: 0.1941 - accuracy: 0.9360 - val_loss: 0.2514 - val_accuracy: 0.9180 - 3s/epoch - 106ms/step\n",
            "Epoch 40/40\n",
            "32/32 - 3s - loss: 0.2297 - accuracy: 0.9258 - val_loss: 0.1132 - val_accuracy: 0.9688 - 3s/epoch - 107ms/step\n"
          ]
        },
        {
          "data": {
            "text/plain": [
              "<keras.callbacks.History at 0x7f3dab754e90>"
            ]
          },
          "execution_count": 48,
          "metadata": {},
          "output_type": "execute_result"
        }
      ],
      "source": [
        "model.fit(\n",
        "      train_generator, \n",
        "      epochs=40,\n",
        "      steps_per_epoch=32, \n",
        "      validation_data=validation_generator,\n",
        "      validation_steps=32,\n",
        "      shuffle=True,\n",
        "      verbose=2)"
      ]
    },
    {
      "cell_type": "markdown",
      "metadata": {
        "id": "ep778mksc9-0"
      },
      "source": [
        "### 8. Prediksi"
      ]
    },
    {
      "cell_type": "code",
      "execution_count": null,
      "metadata": {
        "colab": {
          "base_uri": "https://localhost:8080/",
          "height": 360
        },
        "id": "_ObrP3yUW_CM",
        "outputId": "a8b8e0e5-cc90-41db-e62d-ec4a6eee3f7b"
      },
      "outputs": [
        {
          "data": {
            "text/html": [
              "\n",
              "     <input type=\"file\" id=\"files-6741cf90-69f3-4474-812a-8d884117daa9\" name=\"files[]\" multiple disabled\n",
              "        style=\"border:none\" />\n",
              "     <output id=\"result-6741cf90-69f3-4474-812a-8d884117daa9\">\n",
              "      Upload widget is only available when the cell has been executed in the\n",
              "      current browser session. Please rerun this cell to enable.\n",
              "      </output>\n",
              "      <script>// Copyright 2017 Google LLC\n",
              "//\n",
              "// Licensed under the Apache License, Version 2.0 (the \"License\");\n",
              "// you may not use this file except in compliance with the License.\n",
              "// You may obtain a copy of the License at\n",
              "//\n",
              "//      http://www.apache.org/licenses/LICENSE-2.0\n",
              "//\n",
              "// Unless required by applicable law or agreed to in writing, software\n",
              "// distributed under the License is distributed on an \"AS IS\" BASIS,\n",
              "// WITHOUT WARRANTIES OR CONDITIONS OF ANY KIND, either express or implied.\n",
              "// See the License for the specific language governing permissions and\n",
              "// limitations under the License.\n",
              "\n",
              "/**\n",
              " * @fileoverview Helpers for google.colab Python module.\n",
              " */\n",
              "(function(scope) {\n",
              "function span(text, styleAttributes = {}) {\n",
              "  const element = document.createElement('span');\n",
              "  element.textContent = text;\n",
              "  for (const key of Object.keys(styleAttributes)) {\n",
              "    element.style[key] = styleAttributes[key];\n",
              "  }\n",
              "  return element;\n",
              "}\n",
              "\n",
              "// Max number of bytes which will be uploaded at a time.\n",
              "const MAX_PAYLOAD_SIZE = 100 * 1024;\n",
              "\n",
              "function _uploadFiles(inputId, outputId) {\n",
              "  const steps = uploadFilesStep(inputId, outputId);\n",
              "  const outputElement = document.getElementById(outputId);\n",
              "  // Cache steps on the outputElement to make it available for the next call\n",
              "  // to uploadFilesContinue from Python.\n",
              "  outputElement.steps = steps;\n",
              "\n",
              "  return _uploadFilesContinue(outputId);\n",
              "}\n",
              "\n",
              "// This is roughly an async generator (not supported in the browser yet),\n",
              "// where there are multiple asynchronous steps and the Python side is going\n",
              "// to poll for completion of each step.\n",
              "// This uses a Promise to block the python side on completion of each step,\n",
              "// then passes the result of the previous step as the input to the next step.\n",
              "function _uploadFilesContinue(outputId) {\n",
              "  const outputElement = document.getElementById(outputId);\n",
              "  const steps = outputElement.steps;\n",
              "\n",
              "  const next = steps.next(outputElement.lastPromiseValue);\n",
              "  return Promise.resolve(next.value.promise).then((value) => {\n",
              "    // Cache the last promise value to make it available to the next\n",
              "    // step of the generator.\n",
              "    outputElement.lastPromiseValue = value;\n",
              "    return next.value.response;\n",
              "  });\n",
              "}\n",
              "\n",
              "/**\n",
              " * Generator function which is called between each async step of the upload\n",
              " * process.\n",
              " * @param {string} inputId Element ID of the input file picker element.\n",
              " * @param {string} outputId Element ID of the output display.\n",
              " * @return {!Iterable<!Object>} Iterable of next steps.\n",
              " */\n",
              "function* uploadFilesStep(inputId, outputId) {\n",
              "  const inputElement = document.getElementById(inputId);\n",
              "  inputElement.disabled = false;\n",
              "\n",
              "  const outputElement = document.getElementById(outputId);\n",
              "  outputElement.innerHTML = '';\n",
              "\n",
              "  const pickedPromise = new Promise((resolve) => {\n",
              "    inputElement.addEventListener('change', (e) => {\n",
              "      resolve(e.target.files);\n",
              "    });\n",
              "  });\n",
              "\n",
              "  const cancel = document.createElement('button');\n",
              "  inputElement.parentElement.appendChild(cancel);\n",
              "  cancel.textContent = 'Cancel upload';\n",
              "  const cancelPromise = new Promise((resolve) => {\n",
              "    cancel.onclick = () => {\n",
              "      resolve(null);\n",
              "    };\n",
              "  });\n",
              "\n",
              "  // Wait for the user to pick the files.\n",
              "  const files = yield {\n",
              "    promise: Promise.race([pickedPromise, cancelPromise]),\n",
              "    response: {\n",
              "      action: 'starting',\n",
              "    }\n",
              "  };\n",
              "\n",
              "  cancel.remove();\n",
              "\n",
              "  // Disable the input element since further picks are not allowed.\n",
              "  inputElement.disabled = true;\n",
              "\n",
              "  if (!files) {\n",
              "    return {\n",
              "      response: {\n",
              "        action: 'complete',\n",
              "      }\n",
              "    };\n",
              "  }\n",
              "\n",
              "  for (const file of files) {\n",
              "    const li = document.createElement('li');\n",
              "    li.append(span(file.name, {fontWeight: 'bold'}));\n",
              "    li.append(span(\n",
              "        `(${file.type || 'n/a'}) - ${file.size} bytes, ` +\n",
              "        `last modified: ${\n",
              "            file.lastModifiedDate ? file.lastModifiedDate.toLocaleDateString() :\n",
              "                                    'n/a'} - `));\n",
              "    const percent = span('0% done');\n",
              "    li.appendChild(percent);\n",
              "\n",
              "    outputElement.appendChild(li);\n",
              "\n",
              "    const fileDataPromise = new Promise((resolve) => {\n",
              "      const reader = new FileReader();\n",
              "      reader.onload = (e) => {\n",
              "        resolve(e.target.result);\n",
              "      };\n",
              "      reader.readAsArrayBuffer(file);\n",
              "    });\n",
              "    // Wait for the data to be ready.\n",
              "    let fileData = yield {\n",
              "      promise: fileDataPromise,\n",
              "      response: {\n",
              "        action: 'continue',\n",
              "      }\n",
              "    };\n",
              "\n",
              "    // Use a chunked sending to avoid message size limits. See b/62115660.\n",
              "    let position = 0;\n",
              "    do {\n",
              "      const length = Math.min(fileData.byteLength - position, MAX_PAYLOAD_SIZE);\n",
              "      const chunk = new Uint8Array(fileData, position, length);\n",
              "      position += length;\n",
              "\n",
              "      const base64 = btoa(String.fromCharCode.apply(null, chunk));\n",
              "      yield {\n",
              "        response: {\n",
              "          action: 'append',\n",
              "          file: file.name,\n",
              "          data: base64,\n",
              "        },\n",
              "      };\n",
              "\n",
              "      let percentDone = fileData.byteLength === 0 ?\n",
              "          100 :\n",
              "          Math.round((position / fileData.byteLength) * 100);\n",
              "      percent.textContent = `${percentDone}% done`;\n",
              "\n",
              "    } while (position < fileData.byteLength);\n",
              "  }\n",
              "\n",
              "  // All done.\n",
              "  yield {\n",
              "    response: {\n",
              "      action: 'complete',\n",
              "    }\n",
              "  };\n",
              "}\n",
              "\n",
              "scope.google = scope.google || {};\n",
              "scope.google.colab = scope.google.colab || {};\n",
              "scope.google.colab._files = {\n",
              "  _uploadFiles,\n",
              "  _uploadFilesContinue,\n",
              "};\n",
              "})(self);\n",
              "</script> "
            ],
            "text/plain": [
              "<IPython.core.display.HTML object>"
            ]
          },
          "metadata": {},
          "output_type": "display_data"
        },
        {
          "name": "stdout",
          "output_type": "stream",
          "text": [
            "Saving testpaper01-00.png to testpaper01-00.png\n",
            "testpaper01-00.png\n",
            "Kertas\n"
          ]
        },
        {
          "data": {
            "image/png": "[encoded data removed]",
            "text/plain": [
              "<Figure size 432x288 with 1 Axes>"
            ]
          },
          "metadata": {
            "needs_background": "light"
          },
          "output_type": "display_data"
        }
      ],
      "source": [
        "import numpy as np\n",
        "from google.colab import files\n",
        "from keras.preprocessing import image\n",
        "import matplotlib.pyplot as plt\n",
        "import matplotlib.image as mpimg\n",
        "%matplotlib inline\n",
        " \n",
        "testing = files.upload()\n",
        " \n",
        "for images in testing.keys():\n",
        " \n",
        "  path = images\n",
        "  picture = image.load_img(path, target_size=(150,150))\n",
        "  imgplot = plt.imshow(picture)\n",
        "  x = image.img_to_array(picture)\n",
        "  x = np.expand_dims(x, axis=0)\n",
        " \n",
        "  pictures = np.vstack([x])\n",
        "  class_rps = model.predict(pictures, batch_size=16)\n",
        "  output = np.argmax(class_rps)\n",
        "  \n",
        "  print(images)\n",
        "  if output==0:\n",
        "    print('Paper')\n",
        "  elif output==1:\n",
        "    print('Rock')\n",
        "  elif output==2:\n",
        "    print('Scissor')\n",
        "  else:\n",
        "    print('Not a Hand :)')"
      ]
    }
  ],
  "metadata": {
    "accelerator": "GPU",
    "colab": {
      "provenance": []
    },
    "kernelspec": {
      "display_name": "Python 3",
      "name": "python3"
    }
  },
  "nbformat": 4,
  "nbformat_minor": 0
}
